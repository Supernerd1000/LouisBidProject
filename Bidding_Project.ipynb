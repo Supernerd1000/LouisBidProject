{
 "cells": [
  {
   "cell_type": "code",
   "execution_count": 1,
   "metadata": {},
   "outputs": [],
   "source": [
    "import openpyxl\n",
    "from openpyxl import Workbook\n",
    "from openpyxl import load_workbook\n",
    "from copy import copy\n",
    "\n",
    "#copy will copy the formatting in addition to the content of a cell\n"
   ]
  },
  {
   "cell_type": "code",
   "execution_count": 2,
   "metadata": {
    "scrolled": true
   },
   "outputs": [
    {
     "name": "stdout",
     "output_type": "stream",
     "text": [
      "14\n"
     ]
    }
   ],
   "source": [
    "book = load_workbook(\"Aerial Residential SOW Master.xlsx\", data_only=True)\n",
    "\n",
    "#data only ensures that the results of the formulas are loaded instead of the text of the formulas\n",
    "\n",
    "ws = book[\"Master SOW\"]\n",
    "\n",
    "titles = [cell.value for cell in ws[9]]\n",
    "\n",
    "num_rows = ws.max_row\n",
    "\n",
    "num_cols = ws.max_column\n",
    "\n",
    "print(num_cols)\n"
   ]
  },
  {
   "cell_type": "code",
   "execution_count": 3,
   "metadata": {},
   "outputs": [],
   "source": [
    "#Now we are making a list of dictionaries. \n",
    "rows = []\n",
    "\n",
    "for row in ws.iter_rows(min_row=10, min_col=1, max_col=num_cols):\n",
    "    d = {}\n",
    "    row_inner = [copy(r) for r in row]\n",
    "#copies the formatting of each cell from each row.  Now row_inner is each cell.  \n",
    "    for index, title in enumerate(titles):\n",
    "        title = title.strip() if title else \"\"\n",
    "        d[title] = row_inner[index]\n",
    "#This is creating a dictionary for each row and making the keys for each cell the same as the headings.  \n",
    "#Now we have a dictionary for each row with the right key for each cell.   \n",
    "    rows.append(d)\n",
    "        \n"
   ]
  },
  {
   "cell_type": "code",
   "execution_count": 4,
   "metadata": {},
   "outputs": [
    {
     "name": "stdout",
     "output_type": "stream",
     "text": [
      "{'': <Cell 'Master SOW'.L40>, 'DIV': <Cell 'Master SOW'.B40>, 'Description': <Cell 'Master SOW'.C40>, 'Qty': <Cell 'Master SOW'.D40>, 'Unit': <Cell 'Master SOW'.E40>, 'Unit Price': <Cell 'Master SOW'.F40>, 'Labor': <Cell 'Master SOW'.G40>, 'Material': <Cell 'Master SOW'.H40>, 'Total Labor/ Materials': <Cell 'Master SOW'.I40>, 'Total': <Cell 'Master SOW'.J40>, 'Labor %': <Cell 'Master SOW'.M40>, 'Material %': <Cell 'Master SOW'.N40>}\n"
     ]
    }
   ],
   "source": [
    "print(rows[30])"
   ]
  },
  {
   "cell_type": "code",
   "execution_count": 17,
   "metadata": {},
   "outputs": [
    {
     "name": "stdout",
     "output_type": "stream",
     "text": [
      "[[None, 'DIV 6', 'Woods & Plastics ', None, None, None, ' ', None, None, None, None, None], [None, None, 'Furnish and install crown moulding (single-piece)', 1, 'LS', 22.5, 16.875, 5.625, 22.5, None, 0.75, 0.25], [None, None, 'Allowance to furnish interior organizers at Kitchen cabinets (cutlery dividers, pull-out trash, etc)', 1, 'LS', 1500, 600, 900, 1500, None, 0.4, 0.6], [None, 'DIV 7', 'Thermal & Moisture Protection', None, None, None, ' ', None, None, 11.5, None, None], [None, None, None, 1, 'INCL', None, None, None, None, None, 1, 0], [None, None, 'Apply Laticrete #9235 waterproofing membrane w/reinforcement fleece throughout all flooring at Bathroom and up all walls a minimum of 12\" and up shower walls full height', 1, 'SF', 11.5, 8.05, 3.45, 11.5, None, 0.7, 0.3]]\n",
      "0 {'': <Cell 'Master SOW'.L10>, 'DIV': <Cell 'Master SOW'.B10>, 'Description': <Cell 'Master SOW'.C10>, 'Qty': <Cell 'Master SOW'.D10>, 'Unit': <Cell 'Master SOW'.E10>, 'Unit Price': <Cell 'Master SOW'.F10>, 'Labor': <Cell 'Master SOW'.G10>, 'Material': <Cell 'Master SOW'.H10>, 'Total Labor/ Materials': <Cell 'Master SOW'.I10>, 'Total': <Cell 'Master SOW'.J10>, 'Labor %': <Cell 'Master SOW'.M10>, 'Material %': <Cell 'Master SOW'.N10>}\n",
      "21 {'': <Cell 'Master SOW'.L31>, 'DIV': <Cell 'Master SOW'.B31>, 'Description': <Cell 'Master SOW'.C31>, 'Qty': <Cell 'Master SOW'.D31>, 'Unit': <Cell 'Master SOW'.E31>, 'Unit Price': <Cell 'Master SOW'.F31>, 'Labor': <Cell 'Master SOW'.G31>, 'Material': <Cell 'Master SOW'.H31>, 'Total Labor/ Materials': <Cell 'Master SOW'.I31>, 'Total': <Cell 'Master SOW'.J31>, 'Labor %': <Cell 'Master SOW'.M31>, 'Material %': <Cell 'Master SOW'.N31>}\n",
      "54 {'': <Cell 'Master SOW'.L64>, 'DIV': <Cell 'Master SOW'.B64>, 'Description': <Cell 'Master SOW'.C64>, 'Qty': <Cell 'Master SOW'.D64>, 'Unit': <Cell 'Master SOW'.E64>, 'Unit Price': <Cell 'Master SOW'.F64>, 'Labor': <Cell 'Master SOW'.G64>, 'Material': <Cell 'Master SOW'.H64>, 'Total Labor/ Materials': <Cell 'Master SOW'.I64>, 'Total': <Cell 'Master SOW'.J64>, 'Labor %': <Cell 'Master SOW'.M64>, 'Material %': <Cell 'Master SOW'.N64>}\n",
      "58 {'': <Cell 'Master SOW'.L68>, 'DIV': <Cell 'Master SOW'.B68>, 'Description': <Cell 'Master SOW'.C68>, 'Qty': <Cell 'Master SOW'.D68>, 'Unit': <Cell 'Master SOW'.E68>, 'Unit Price': <Cell 'Master SOW'.F68>, 'Labor': <Cell 'Master SOW'.G68>, 'Material': <Cell 'Master SOW'.H68>, 'Total Labor/ Materials': <Cell 'Master SOW'.I68>, 'Total': <Cell 'Master SOW'.J68>, 'Labor %': <Cell 'Master SOW'.M68>, 'Material %': <Cell 'Master SOW'.N68>}\n",
      "61 {'': <Cell 'Master SOW'.L71>, 'DIV': <Cell 'Master SOW'.B71>, 'Description': <Cell 'Master SOW'.C71>, 'Qty': <Cell 'Master SOW'.D71>, 'Unit': <Cell 'Master SOW'.E71>, 'Unit Price': <Cell 'Master SOW'.F71>, 'Labor': <Cell 'Master SOW'.G71>, 'Material': <Cell 'Master SOW'.H71>, 'Total Labor/ Materials': <Cell 'Master SOW'.I71>, 'Total': <Cell 'Master SOW'.J71>, 'Labor %': <Cell 'Master SOW'.M71>, 'Material %': <Cell 'Master SOW'.N71>}\n",
      "65 {'': <Cell 'Master SOW'.L75>, 'DIV': <Cell 'Master SOW'.B75>, 'Description': <Cell 'Master SOW'.C75>, 'Qty': <Cell 'Master SOW'.D75>, 'Unit': <Cell 'Master SOW'.E75>, 'Unit Price': <Cell 'Master SOW'.F75>, 'Labor': <Cell 'Master SOW'.G75>, 'Material': <Cell 'Master SOW'.H75>, 'Total Labor/ Materials': <Cell 'Master SOW'.I75>, 'Total': <Cell 'Master SOW'.J75>, 'Labor %': <Cell 'Master SOW'.M75>, 'Material %': <Cell 'Master SOW'.N75>}\n",
      "110 {'': <Cell 'Master SOW'.L120>, 'DIV': <Cell 'Master SOW'.B120>, 'Description': <Cell 'Master SOW'.C120>, 'Qty': <Cell 'Master SOW'.D120>, 'Unit': <Cell 'Master SOW'.E120>, 'Unit Price': <Cell 'Master SOW'.F120>, 'Labor': <Cell 'Master SOW'.G120>, 'Material': <Cell 'Master SOW'.H120>, 'Total Labor/ Materials': <Cell 'Master SOW'.I120>, 'Total': <Cell 'Master SOW'.J120>, 'Labor %': <Cell 'Master SOW'.M120>, 'Material %': <Cell 'Master SOW'.N120>}\n",
      "124 {'': <Cell 'Master SOW'.L134>, 'DIV': <Cell 'Master SOW'.B134>, 'Description': <Cell 'Master SOW'.C134>, 'Qty': <Cell 'Master SOW'.D134>, 'Unit': <Cell 'Master SOW'.E134>, 'Unit Price': <Cell 'Master SOW'.F134>, 'Labor': <Cell 'Master SOW'.G134>, 'Material': <Cell 'Master SOW'.H134>, 'Total Labor/ Materials': <Cell 'Master SOW'.I134>, 'Total': <Cell 'Master SOW'.J134>, 'Labor %': <Cell 'Master SOW'.M134>, 'Material %': <Cell 'Master SOW'.N134>}\n",
      "142 {'': <Cell 'Master SOW'.L152>, 'DIV': <Cell 'Master SOW'.B152>, 'Description': <Cell 'Master SOW'.C152>, 'Qty': <Cell 'Master SOW'.D152>, 'Unit': <Cell 'Master SOW'.E152>, 'Unit Price': <Cell 'Master SOW'.F152>, 'Labor': <Cell 'Master SOW'.G152>, 'Material': <Cell 'Master SOW'.H152>, 'Total Labor/ Materials': <Cell 'Master SOW'.I152>, 'Total': <Cell 'Master SOW'.J152>, 'Labor %': <Cell 'Master SOW'.M152>, 'Material %': <Cell 'Master SOW'.N152>}\n",
      "172 {'': <Cell 'Master SOW'.L182>, 'DIV': <Cell 'Master SOW'.B182>, 'Description': <Cell 'Master SOW'.C182>, 'Qty': <Cell 'Master SOW'.D182>, 'Unit': <Cell 'Master SOW'.E182>, 'Unit Price': <Cell 'Master SOW'.F182>, 'Labor': <Cell 'Master SOW'.G182>, 'Material': <Cell 'Master SOW'.H182>, 'Total Labor/ Materials': <Cell 'Master SOW'.I182>, 'Total': <Cell 'Master SOW'.J182>, 'Labor %': <Cell 'Master SOW'.M182>, 'Material %': <Cell 'Master SOW'.N182>}\n",
      "178 {'': <Cell 'Master SOW'.L188>, 'DIV': <Cell 'Master SOW'.B188>, 'Description': <Cell 'Master SOW'.C188>, 'Qty': <Cell 'Master SOW'.D188>, 'Unit': <Cell 'Master SOW'.E188>, 'Unit Price': <Cell 'Master SOW'.F188>, 'Labor': <Cell 'Master SOW'.G188>, 'Material': <Cell 'Master SOW'.H188>, 'Total Labor/ Materials': <Cell 'Master SOW'.I188>, 'Total': <Cell 'Master SOW'.J188>, 'Labor %': <Cell 'Master SOW'.M188>, 'Material %': <Cell 'Master SOW'.N188>}\n",
      "194 {'': <Cell 'Master SOW'.L204>, 'DIV': <Cell 'Master SOW'.B204>, 'Description': <Cell 'Master SOW'.C204>, 'Qty': <Cell 'Master SOW'.D204>, 'Unit': <Cell 'Master SOW'.E204>, 'Unit Price': <Cell 'Master SOW'.F204>, 'Labor': <Cell 'Master SOW'.G204>, 'Material': <Cell 'Master SOW'.H204>, 'Total Labor/ Materials': <Cell 'Master SOW'.I204>, 'Total': <Cell 'Master SOW'.J204>, 'Labor %': <Cell 'Master SOW'.M204>, 'Material %': <Cell 'Master SOW'.N204>}\n",
      "230 {'': <Cell 'Master SOW'.L240>, 'DIV': <Cell 'Master SOW'.B240>, 'Description': <Cell 'Master SOW'.C240>, 'Qty': <Cell 'Master SOW'.D240>, 'Unit': <Cell 'Master SOW'.E240>, 'Unit Price': <Cell 'Master SOW'.F240>, 'Labor': <Cell 'Master SOW'.G240>, 'Material': <Cell 'Master SOW'.H240>, 'Total Labor/ Materials': <Cell 'Master SOW'.I240>, 'Total': <Cell 'Master SOW'.J240>, 'Labor %': <Cell 'Master SOW'.M240>, 'Material %': <Cell 'Master SOW'.N240>}\n",
      "271 {'': <Cell 'Master SOW'.L281>, 'DIV': <Cell 'Master SOW'.B281>, 'Description': <Cell 'Master SOW'.C281>, 'Qty': <Cell 'Master SOW'.D281>, 'Unit': <Cell 'Master SOW'.E281>, 'Unit Price': <Cell 'Master SOW'.F281>, 'Labor': <Cell 'Master SOW'.G281>, 'Material': <Cell 'Master SOW'.H281>, 'Total Labor/ Materials': <Cell 'Master SOW'.I281>, 'Total': <Cell 'Master SOW'.J281>, 'Labor %': <Cell 'Master SOW'.M281>, 'Material %': <Cell 'Master SOW'.N281>}\n"
     ]
    },
    {
     "data": {
      "text/plain": [
       "\"qrows = []\\n\\nfor r in rows:\\n    if r['Qty'].value > 0:\\n        qrows.append(i)\\n        \\nprint(qrows)\""
      ]
     },
     "execution_count": 17,
     "metadata": {},
     "output_type": "execute_result"
    }
   ],
   "source": [
    "qtyrows = {str(i):r for i,r in enumerate(rows) if r['Qty'].value}\n",
    "\n",
    "\n",
    "headerrows = {str(i):r for i,r in enumerate(rows) if ('DIV' in str(r['DIV'].value or \"\"))}\n",
    "\n",
    "final_rows = []\n",
    "\n",
    "exists = False\n",
    "\n",
    "for i in range(len(rows)):\n",
    "    j = len(rows) - i - 1\n",
    "    if qtyrows.get(str(j)):\n",
    "        final_rows = [qtyrows.get(str(j))] + final_rows\n",
    "        exists = True\n",
    "    if exists and headerrows.get(str(j)):\n",
    "        final_rows = [headerrows.get(str(j))] + final_rows\n",
    "        exists = False\n",
    "\n",
    "        \n",
    "print([[y.value for y in x.values()] for x in final_rows])      \n",
    " \n",
    "for i in headerrows:\n",
    "    print(i, headerrows[i])\n",
    "        #To see the non List Comprehension way:\n",
    "\n",
    "'''qrows = []\n",
    "\n",
    "for r in rows:\n",
    "    if r['Qty'].value > 0:\n",
    "        qrows.append(i)\n",
    "        \n",
    "print(qrows)'''"
   ]
  },
  {
   "cell_type": "code",
   "execution_count": 152,
   "metadata": {},
   "outputs": [],
   "source": [
    "wr = book[\"Bid Worksheet\"]"
   ]
  },
  {
   "cell_type": "code",
   "execution_count": 153,
   "metadata": {},
   "outputs": [],
   "source": [
    "bid_titles = [cell.value for cell in wr[9]]\n"
   ]
  },
  {
   "cell_type": "code",
   "execution_count": 154,
   "metadata": {},
   "outputs": [],
   "source": [
    "starting_row = 10\n",
    "\n",
    "for row in final_rows:\n",
    "    for index, title in enumerate(bid_titles):\n",
    "        title = title.strip() if title else \"\"\n",
    "        wr.cell(row=starting_row, column=index + 1).value = row.get(title).value \n",
    "    starting_row += 1\n"
   ]
  },
  {
   "cell_type": "code",
   "execution_count": 156,
   "metadata": {},
   "outputs": [],
   "source": [
    "book.save('document_template.xlsx')"
   ]
  },
  {
   "cell_type": "code",
   "execution_count": null,
   "metadata": {},
   "outputs": [],
   "source": []
  }
 ],
 "metadata": {
  "kernelspec": {
   "display_name": "Python 3",
   "language": "python",
   "name": "python3"
  },
  "language_info": {
   "codemirror_mode": {
    "name": "ipython",
    "version": 3
   },
   "file_extension": ".py",
   "mimetype": "text/x-python",
   "name": "python",
   "nbconvert_exporter": "python",
   "pygments_lexer": "ipython3",
   "version": "3.6.9"
  }
 },
 "nbformat": 4,
 "nbformat_minor": 4
}
